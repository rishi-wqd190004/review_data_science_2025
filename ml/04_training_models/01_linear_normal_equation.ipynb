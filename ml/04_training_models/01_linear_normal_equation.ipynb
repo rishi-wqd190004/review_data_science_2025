{
 "cells": [
  {
   "cell_type": "code",
   "execution_count": 35,
   "id": "fc8d5772",
   "metadata": {},
   "outputs": [],
   "source": [
    "import numpy as np\n",
    "from sklearn.linear_model import LinearRegression, SGDRegressor\n",
    "import plotly.express as px\n",
    "import plotly.graph_objects as go"
   ]
  },
  {
   "cell_type": "markdown",
   "id": "38efaa95",
   "metadata": {},
   "source": [
    "### Normal Equation"
   ]
  },
  {
   "cell_type": "code",
   "execution_count": 2,
   "id": "48b1de91",
   "metadata": {},
   "outputs": [
    {
     "name": "stdout",
     "output_type": "stream",
     "text": [
      "<class 'numpy.ndarray'> (100, 1) (100, 1)\n"
     ]
    }
   ],
   "source": [
    "x = 2 * np.random.rand(100,1)\n",
    "y = 4 + 3 * x + np.random.randn(100,1)\n",
    "print(type(x), x.shape, y.shape)"
   ]
  },
  {
   "cell_type": "code",
   "execution_count": 3,
   "id": "d3f6e8d9",
   "metadata": {},
   "outputs": [
    {
     "data": {
      "application/vnd.plotly.v1+json": {
       "config": {
        "plotlyServerURL": "https://plot.ly"
       },
       "data": [
        {
         "hovertemplate": "x=%{x}<br>y=%{y}<extra></extra>",
         "legendgroup": "",
         "marker": {
          "color": "#636efa",
          "symbol": "circle"
         },
         "mode": "markers",
         "name": "",
         "orientation": "v",
         "showlegend": false,
         "type": "scatter",
         "x": {
          "bdata": "/JKCbaG+0T+gtWvCggf5Px019pMbAvk/4K0xxvJloT+WnDSPqz77P+PwhUXho/s/nwvNIbiA9D8u18Oesb75P9UPEakpJvw/0BdEyxVuxj/Qfkn4oxXtPwDknTPCB5c/qVFgew0i9z+AcQSm7UPUP6yXqTpIVvc/I988xyTN9z924SbGPkTyP2gq0FV60fY/chY4MBU84z9HT+g4DSD2PwO++f6eJ/Q/kQoPjNPG8z9zsbl+lh/0PwBiZjtLzuE/wNdLhZj39D/gsYzFh73+P7BY9gCWhuE/4I7yLduPoT+irKk6ERP7P9biP2wJ/+0/fEFMX6kq9T+4GhiCFQzfP5EC7A0fE/s/ZDjmLTIL8T/faGpxGxz7P+A+Bb6SfrM/ZOVjsDIZ4z+05b3ce6v9P2wuPAAoBd0/1qEqmvyh5j+gU0PJPVXlPxy+O2tDO+Y/URzQ2zkV9j+as13Wqob6PwNN+FWDnfo/0tSs+YDf5D/LWgYQdJH7P3QBpmZ4cuk/oNMKFC3A6D8AZporlAFoP3BxvTkSJr4/QgYx54T+9z9D8o/p9B39P+CPxv8pScE/2AAtwskR1D95RQFvzZj1PwvpDszX7/o/hOUNGvc+5T+T3S2ANRz3P6gZC1hIyME/uG0NzrmQ9T9UnV4sIVbbP0Q5DBaHmtM/CC2XoFCk3D8IUEH98uDSPwYQ1UQmme4/pkC3Us5n7T+W77i8anbuPzrXvriUoPI/GiD23IDR+D9gW07nrrveP6B6zUtSyP8/pEiPb0b89j93AU9Z/mvzP7HEbDufsvs/wrsXHD6/6z+gjAnorNz9P6lcoBYiuvs/8jIpet6r4T9vWGrq5Uz2PxN1X2mdY/s/PLYE2PzP5j/4xCmYVRrEP3jRLOi18cc/6gDW06pj/T+BqLJUnun4P8wqAwAECOE/QOHTIK4drD9app/qsRjuP8TbD5p02tg/bG19LkGs/T+wu9qKgxDqP+Z991x3q+E/J1UqcbZw/T9oPUxb1CbvPwWVVwLVufY/R1hX9ApL8z8gk9eIXGS9PzFzgXoRd/k/BIUsPXiQ1j8=",
          "dtype": "f8"
         },
         "xaxis": "x",
         "y": {
          "bdata": "AN1zftu7FUCCQmrD3qUhQP2hvOIzkyJAXhqOVLWuGUDi6e8EUnohQM18AyxvriNAjtiryNwfIUBsuiZmcBIgQHjekk1FgiBAEi4gPotGFUCNzE8D/QUhQLdLqc+N0AhABCF3pxDvIUCLD4v9sEsbQDdLbzanxyBAjN2BwLIbHUB0Rvgn8lUhQL7D9GnjFyFAfOOxGO4xH0DO0Ogms98gQJ7+IBc4WiNARUcq3d3mHUDg8DjEKZUjQLp8RlkPnhNA8uD+/CYUIEBhq2fR9MEiQNoSHZCl3RVArLAL85VpBUD/nHcSJdohQAiL7tbGWhpABcD//SaCIUAT2jWM4WMaQAK2b2GtMiZAB1c/9QmMIEDPzYPFcY0kQD58Pzkk0hJAQKsw3LreGkDTTwc+mv4kQFmG7sIF1xhAJq4Y+WhhGEDaIrBZUkAXQCdVy9JV9xVAQvoRPZAXI0DCzcaSZdsiQK/MlMr4TiNAml9tvbDdEkBDV7m2i9wiQPULzjeCWAxA4UjRhLsxGkDPGScpGxgDQE9lFOyFEBpAj2d6bQjwIEDu6WD5zKchQEXcTTg3XBVA5eud4mrtFECGhXhGOUwgQIgra8Dl4yJAL3kE+s28E0BiqomCXpIiQMBb8I3k2BhA6zaEWpE0IEBUC+7zDSkUQIS3anup0hpANJMpZ3sCE0A4x+oz4F0MQHKkI9Jv+B5AOTlJHUvvG0D0217o+T8ZQBOMuM4yTR9AnZ6e9rcVJUCwCCBzCwwXQNhVp+MMTSNAGOMaI9P3H0BPwnrvm+sdQKLDnggu5SBA83EqL3I7G0CS/qqHZH0hQO6K2eEhsiBAR1cJXeRNDkDQWXFDFVQhQOeY6i0LdiNAdhUeN0anFUAOgeExqzwbQPsZodYrWRVAehvzpFUbI0CVBcWczQAhQL4pw6F5XRpAizazPkk0DUAGmFTPhfEYQOs6sGBOog1AUaw9b29cIkAfjLGJ/QMTQPey7a1VGRRAJSI0d1f2IkB+sGq3mkMeQFkuS2codCBAnJDz7gCnHkDZqecIu0oRQAC8A0TgfSJAcy753HioF0A=",
          "dtype": "f8"
         },
         "yaxis": "y"
        }
       ],
       "layout": {
        "legend": {
         "tracegroupgap": 0
        },
        "margin": {
         "t": 60
        },
        "template": {
         "data": {
          "bar": [
           {
            "error_x": {
             "color": "#2a3f5f"
            },
            "error_y": {
             "color": "#2a3f5f"
            },
            "marker": {
             "line": {
              "color": "#E5ECF6",
              "width": 0.5
             },
             "pattern": {
              "fillmode": "overlay",
              "size": 10,
              "solidity": 0.2
             }
            },
            "type": "bar"
           }
          ],
          "barpolar": [
           {
            "marker": {
             "line": {
              "color": "#E5ECF6",
              "width": 0.5
             },
             "pattern": {
              "fillmode": "overlay",
              "size": 10,
              "solidity": 0.2
             }
            },
            "type": "barpolar"
           }
          ],
          "carpet": [
           {
            "aaxis": {
             "endlinecolor": "#2a3f5f",
             "gridcolor": "white",
             "linecolor": "white",
             "minorgridcolor": "white",
             "startlinecolor": "#2a3f5f"
            },
            "baxis": {
             "endlinecolor": "#2a3f5f",
             "gridcolor": "white",
             "linecolor": "white",
             "minorgridcolor": "white",
             "startlinecolor": "#2a3f5f"
            },
            "type": "carpet"
           }
          ],
          "choropleth": [
           {
            "colorbar": {
             "outlinewidth": 0,
             "ticks": ""
            },
            "type": "choropleth"
           }
          ],
          "contour": [
           {
            "colorbar": {
             "outlinewidth": 0,
             "ticks": ""
            },
            "colorscale": [
             [
              0,
              "#0d0887"
             ],
             [
              0.1111111111111111,
              "#46039f"
             ],
             [
              0.2222222222222222,
              "#7201a8"
             ],
             [
              0.3333333333333333,
              "#9c179e"
             ],
             [
              0.4444444444444444,
              "#bd3786"
             ],
             [
              0.5555555555555556,
              "#d8576b"
             ],
             [
              0.6666666666666666,
              "#ed7953"
             ],
             [
              0.7777777777777778,
              "#fb9f3a"
             ],
             [
              0.8888888888888888,
              "#fdca26"
             ],
             [
              1,
              "#f0f921"
             ]
            ],
            "type": "contour"
           }
          ],
          "contourcarpet": [
           {
            "colorbar": {
             "outlinewidth": 0,
             "ticks": ""
            },
            "type": "contourcarpet"
           }
          ],
          "heatmap": [
           {
            "colorbar": {
             "outlinewidth": 0,
             "ticks": ""
            },
            "colorscale": [
             [
              0,
              "#0d0887"
             ],
             [
              0.1111111111111111,
              "#46039f"
             ],
             [
              0.2222222222222222,
              "#7201a8"
             ],
             [
              0.3333333333333333,
              "#9c179e"
             ],
             [
              0.4444444444444444,
              "#bd3786"
             ],
             [
              0.5555555555555556,
              "#d8576b"
             ],
             [
              0.6666666666666666,
              "#ed7953"
             ],
             [
              0.7777777777777778,
              "#fb9f3a"
             ],
             [
              0.8888888888888888,
              "#fdca26"
             ],
             [
              1,
              "#f0f921"
             ]
            ],
            "type": "heatmap"
           }
          ],
          "histogram": [
           {
            "marker": {
             "pattern": {
              "fillmode": "overlay",
              "size": 10,
              "solidity": 0.2
             }
            },
            "type": "histogram"
           }
          ],
          "histogram2d": [
           {
            "colorbar": {
             "outlinewidth": 0,
             "ticks": ""
            },
            "colorscale": [
             [
              0,
              "#0d0887"
             ],
             [
              0.1111111111111111,
              "#46039f"
             ],
             [
              0.2222222222222222,
              "#7201a8"
             ],
             [
              0.3333333333333333,
              "#9c179e"
             ],
             [
              0.4444444444444444,
              "#bd3786"
             ],
             [
              0.5555555555555556,
              "#d8576b"
             ],
             [
              0.6666666666666666,
              "#ed7953"
             ],
             [
              0.7777777777777778,
              "#fb9f3a"
             ],
             [
              0.8888888888888888,
              "#fdca26"
             ],
             [
              1,
              "#f0f921"
             ]
            ],
            "type": "histogram2d"
           }
          ],
          "histogram2dcontour": [
           {
            "colorbar": {
             "outlinewidth": 0,
             "ticks": ""
            },
            "colorscale": [
             [
              0,
              "#0d0887"
             ],
             [
              0.1111111111111111,
              "#46039f"
             ],
             [
              0.2222222222222222,
              "#7201a8"
             ],
             [
              0.3333333333333333,
              "#9c179e"
             ],
             [
              0.4444444444444444,
              "#bd3786"
             ],
             [
              0.5555555555555556,
              "#d8576b"
             ],
             [
              0.6666666666666666,
              "#ed7953"
             ],
             [
              0.7777777777777778,
              "#fb9f3a"
             ],
             [
              0.8888888888888888,
              "#fdca26"
             ],
             [
              1,
              "#f0f921"
             ]
            ],
            "type": "histogram2dcontour"
           }
          ],
          "mesh3d": [
           {
            "colorbar": {
             "outlinewidth": 0,
             "ticks": ""
            },
            "type": "mesh3d"
           }
          ],
          "parcoords": [
           {
            "line": {
             "colorbar": {
              "outlinewidth": 0,
              "ticks": ""
             }
            },
            "type": "parcoords"
           }
          ],
          "pie": [
           {
            "automargin": true,
            "type": "pie"
           }
          ],
          "scatter": [
           {
            "fillpattern": {
             "fillmode": "overlay",
             "size": 10,
             "solidity": 0.2
            },
            "type": "scatter"
           }
          ],
          "scatter3d": [
           {
            "line": {
             "colorbar": {
              "outlinewidth": 0,
              "ticks": ""
             }
            },
            "marker": {
             "colorbar": {
              "outlinewidth": 0,
              "ticks": ""
             }
            },
            "type": "scatter3d"
           }
          ],
          "scattercarpet": [
           {
            "marker": {
             "colorbar": {
              "outlinewidth": 0,
              "ticks": ""
             }
            },
            "type": "scattercarpet"
           }
          ],
          "scattergeo": [
           {
            "marker": {
             "colorbar": {
              "outlinewidth": 0,
              "ticks": ""
             }
            },
            "type": "scattergeo"
           }
          ],
          "scattergl": [
           {
            "marker": {
             "colorbar": {
              "outlinewidth": 0,
              "ticks": ""
             }
            },
            "type": "scattergl"
           }
          ],
          "scattermap": [
           {
            "marker": {
             "colorbar": {
              "outlinewidth": 0,
              "ticks": ""
             }
            },
            "type": "scattermap"
           }
          ],
          "scattermapbox": [
           {
            "marker": {
             "colorbar": {
              "outlinewidth": 0,
              "ticks": ""
             }
            },
            "type": "scattermapbox"
           }
          ],
          "scatterpolar": [
           {
            "marker": {
             "colorbar": {
              "outlinewidth": 0,
              "ticks": ""
             }
            },
            "type": "scatterpolar"
           }
          ],
          "scatterpolargl": [
           {
            "marker": {
             "colorbar": {
              "outlinewidth": 0,
              "ticks": ""
             }
            },
            "type": "scatterpolargl"
           }
          ],
          "scatterternary": [
           {
            "marker": {
             "colorbar": {
              "outlinewidth": 0,
              "ticks": ""
             }
            },
            "type": "scatterternary"
           }
          ],
          "surface": [
           {
            "colorbar": {
             "outlinewidth": 0,
             "ticks": ""
            },
            "colorscale": [
             [
              0,
              "#0d0887"
             ],
             [
              0.1111111111111111,
              "#46039f"
             ],
             [
              0.2222222222222222,
              "#7201a8"
             ],
             [
              0.3333333333333333,
              "#9c179e"
             ],
             [
              0.4444444444444444,
              "#bd3786"
             ],
             [
              0.5555555555555556,
              "#d8576b"
             ],
             [
              0.6666666666666666,
              "#ed7953"
             ],
             [
              0.7777777777777778,
              "#fb9f3a"
             ],
             [
              0.8888888888888888,
              "#fdca26"
             ],
             [
              1,
              "#f0f921"
             ]
            ],
            "type": "surface"
           }
          ],
          "table": [
           {
            "cells": {
             "fill": {
              "color": "#EBF0F8"
             },
             "line": {
              "color": "white"
             }
            },
            "header": {
             "fill": {
              "color": "#C8D4E3"
             },
             "line": {
              "color": "white"
             }
            },
            "type": "table"
           }
          ]
         },
         "layout": {
          "annotationdefaults": {
           "arrowcolor": "#2a3f5f",
           "arrowhead": 0,
           "arrowwidth": 1
          },
          "autotypenumbers": "strict",
          "coloraxis": {
           "colorbar": {
            "outlinewidth": 0,
            "ticks": ""
           }
          },
          "colorscale": {
           "diverging": [
            [
             0,
             "#8e0152"
            ],
            [
             0.1,
             "#c51b7d"
            ],
            [
             0.2,
             "#de77ae"
            ],
            [
             0.3,
             "#f1b6da"
            ],
            [
             0.4,
             "#fde0ef"
            ],
            [
             0.5,
             "#f7f7f7"
            ],
            [
             0.6,
             "#e6f5d0"
            ],
            [
             0.7,
             "#b8e186"
            ],
            [
             0.8,
             "#7fbc41"
            ],
            [
             0.9,
             "#4d9221"
            ],
            [
             1,
             "#276419"
            ]
           ],
           "sequential": [
            [
             0,
             "#0d0887"
            ],
            [
             0.1111111111111111,
             "#46039f"
            ],
            [
             0.2222222222222222,
             "#7201a8"
            ],
            [
             0.3333333333333333,
             "#9c179e"
            ],
            [
             0.4444444444444444,
             "#bd3786"
            ],
            [
             0.5555555555555556,
             "#d8576b"
            ],
            [
             0.6666666666666666,
             "#ed7953"
            ],
            [
             0.7777777777777778,
             "#fb9f3a"
            ],
            [
             0.8888888888888888,
             "#fdca26"
            ],
            [
             1,
             "#f0f921"
            ]
           ],
           "sequentialminus": [
            [
             0,
             "#0d0887"
            ],
            [
             0.1111111111111111,
             "#46039f"
            ],
            [
             0.2222222222222222,
             "#7201a8"
            ],
            [
             0.3333333333333333,
             "#9c179e"
            ],
            [
             0.4444444444444444,
             "#bd3786"
            ],
            [
             0.5555555555555556,
             "#d8576b"
            ],
            [
             0.6666666666666666,
             "#ed7953"
            ],
            [
             0.7777777777777778,
             "#fb9f3a"
            ],
            [
             0.8888888888888888,
             "#fdca26"
            ],
            [
             1,
             "#f0f921"
            ]
           ]
          },
          "colorway": [
           "#636efa",
           "#EF553B",
           "#00cc96",
           "#ab63fa",
           "#FFA15A",
           "#19d3f3",
           "#FF6692",
           "#B6E880",
           "#FF97FF",
           "#FECB52"
          ],
          "font": {
           "color": "#2a3f5f"
          },
          "geo": {
           "bgcolor": "white",
           "lakecolor": "white",
           "landcolor": "#E5ECF6",
           "showlakes": true,
           "showland": true,
           "subunitcolor": "white"
          },
          "hoverlabel": {
           "align": "left"
          },
          "hovermode": "closest",
          "mapbox": {
           "style": "light"
          },
          "paper_bgcolor": "white",
          "plot_bgcolor": "#E5ECF6",
          "polar": {
           "angularaxis": {
            "gridcolor": "white",
            "linecolor": "white",
            "ticks": ""
           },
           "bgcolor": "#E5ECF6",
           "radialaxis": {
            "gridcolor": "white",
            "linecolor": "white",
            "ticks": ""
           }
          },
          "scene": {
           "xaxis": {
            "backgroundcolor": "#E5ECF6",
            "gridcolor": "white",
            "gridwidth": 2,
            "linecolor": "white",
            "showbackground": true,
            "ticks": "",
            "zerolinecolor": "white"
           },
           "yaxis": {
            "backgroundcolor": "#E5ECF6",
            "gridcolor": "white",
            "gridwidth": 2,
            "linecolor": "white",
            "showbackground": true,
            "ticks": "",
            "zerolinecolor": "white"
           },
           "zaxis": {
            "backgroundcolor": "#E5ECF6",
            "gridcolor": "white",
            "gridwidth": 2,
            "linecolor": "white",
            "showbackground": true,
            "ticks": "",
            "zerolinecolor": "white"
           }
          },
          "shapedefaults": {
           "line": {
            "color": "#2a3f5f"
           }
          },
          "ternary": {
           "aaxis": {
            "gridcolor": "white",
            "linecolor": "white",
            "ticks": ""
           },
           "baxis": {
            "gridcolor": "white",
            "linecolor": "white",
            "ticks": ""
           },
           "bgcolor": "#E5ECF6",
           "caxis": {
            "gridcolor": "white",
            "linecolor": "white",
            "ticks": ""
           }
          },
          "title": {
           "x": 0.05
          },
          "xaxis": {
           "automargin": true,
           "gridcolor": "white",
           "linecolor": "white",
           "ticks": "",
           "title": {
            "standoff": 15
           },
           "zerolinecolor": "white",
           "zerolinewidth": 2
          },
          "yaxis": {
           "automargin": true,
           "gridcolor": "white",
           "linecolor": "white",
           "ticks": "",
           "title": {
            "standoff": 15
           },
           "zerolinecolor": "white",
           "zerolinewidth": 2
          }
         }
        },
        "xaxis": {
         "anchor": "y",
         "domain": [
          0,
          1
         ],
         "title": {
          "text": "x"
         }
        },
        "yaxis": {
         "anchor": "x",
         "domain": [
          0,
          1
         ],
         "title": {
          "text": "y"
         }
        }
       }
      }
     },
     "metadata": {},
     "output_type": "display_data"
    }
   ],
   "source": [
    "fig = px.scatter(x=x[:,0], y=y[:,0])\n",
    "fig.show()"
   ]
  },
  {
   "cell_type": "code",
   "execution_count": 4,
   "id": "473203c2",
   "metadata": {},
   "outputs": [
    {
     "data": {
      "text/plain": [
       "array([[4.27515369],\n",
       "       [2.92584104]])"
      ]
     },
     "execution_count": 4,
     "metadata": {},
     "output_type": "execute_result"
    }
   ],
   "source": [
    "x_b = np.c_[np.ones((100,1)), x]\n",
    "theta_best = np.linalg.inv(x_b.T.dot(x_b)).dot(x_b.T).dot(y)\n",
    "theta_best"
   ]
  },
  {
   "cell_type": "code",
   "execution_count": 5,
   "id": "fc829b20",
   "metadata": {},
   "outputs": [
    {
     "data": {
      "text/plain": [
       "array([[ 4.27515369],\n",
       "       [10.12683578]])"
      ]
     },
     "execution_count": 5,
     "metadata": {},
     "output_type": "execute_result"
    }
   ],
   "source": [
    "x_new = np.array([[0], [2]])\n",
    "x_new_b = np.c_[np.ones((2,1)), x_new]\n",
    "y_pred = x_new_b.dot(theta_best)\n",
    "y_pred"
   ]
  },
  {
   "cell_type": "code",
   "execution_count": 6,
   "id": "49e5d218",
   "metadata": {},
   "outputs": [
    {
     "data": {
      "application/vnd.plotly.v1+json": {
       "config": {
        "plotlyServerURL": "https://plot.ly"
       },
       "data": [
        {
         "mode": "markers",
         "name": "Data",
         "type": "scatter",
         "x": {
          "bdata": "/JKCbaG+0T+gtWvCggf5Px019pMbAvk/4K0xxvJloT+WnDSPqz77P+PwhUXho/s/nwvNIbiA9D8u18Oesb75P9UPEakpJvw/0BdEyxVuxj/Qfkn4oxXtPwDknTPCB5c/qVFgew0i9z+AcQSm7UPUP6yXqTpIVvc/I988xyTN9z924SbGPkTyP2gq0FV60fY/chY4MBU84z9HT+g4DSD2PwO++f6eJ/Q/kQoPjNPG8z9zsbl+lh/0PwBiZjtLzuE/wNdLhZj39D/gsYzFh73+P7BY9gCWhuE/4I7yLduPoT+irKk6ERP7P9biP2wJ/+0/fEFMX6kq9T+4GhiCFQzfP5EC7A0fE/s/ZDjmLTIL8T/faGpxGxz7P+A+Bb6SfrM/ZOVjsDIZ4z+05b3ce6v9P2wuPAAoBd0/1qEqmvyh5j+gU0PJPVXlPxy+O2tDO+Y/URzQ2zkV9j+as13Wqob6PwNN+FWDnfo/0tSs+YDf5D/LWgYQdJH7P3QBpmZ4cuk/oNMKFC3A6D8AZporlAFoP3BxvTkSJr4/QgYx54T+9z9D8o/p9B39P+CPxv8pScE/2AAtwskR1D95RQFvzZj1PwvpDszX7/o/hOUNGvc+5T+T3S2ANRz3P6gZC1hIyME/uG0NzrmQ9T9UnV4sIVbbP0Q5DBaHmtM/CC2XoFCk3D8IUEH98uDSPwYQ1UQmme4/pkC3Us5n7T+W77i8anbuPzrXvriUoPI/GiD23IDR+D9gW07nrrveP6B6zUtSyP8/pEiPb0b89j93AU9Z/mvzP7HEbDufsvs/wrsXHD6/6z+gjAnorNz9P6lcoBYiuvs/8jIpet6r4T9vWGrq5Uz2PxN1X2mdY/s/PLYE2PzP5j/4xCmYVRrEP3jRLOi18cc/6gDW06pj/T+BqLJUnun4P8wqAwAECOE/QOHTIK4drD9app/qsRjuP8TbD5p02tg/bG19LkGs/T+wu9qKgxDqP+Z991x3q+E/J1UqcbZw/T9oPUxb1CbvPwWVVwLVufY/R1hX9ApL8z8gk9eIXGS9PzFzgXoRd/k/BIUsPXiQ1j8=",
          "dtype": "f8"
         },
         "y": {
          "bdata": "AN1zftu7FUCCQmrD3qUhQP2hvOIzkyJAXhqOVLWuGUDi6e8EUnohQM18AyxvriNAjtiryNwfIUBsuiZmcBIgQHjekk1FgiBAEi4gPotGFUCNzE8D/QUhQLdLqc+N0AhABCF3pxDvIUCLD4v9sEsbQDdLbzanxyBAjN2BwLIbHUB0Rvgn8lUhQL7D9GnjFyFAfOOxGO4xH0DO0Ogms98gQJ7+IBc4WiNARUcq3d3mHUDg8DjEKZUjQLp8RlkPnhNA8uD+/CYUIEBhq2fR9MEiQNoSHZCl3RVArLAL85VpBUD/nHcSJdohQAiL7tbGWhpABcD//SaCIUAT2jWM4WMaQAK2b2GtMiZAB1c/9QmMIEDPzYPFcY0kQD58Pzkk0hJAQKsw3LreGkDTTwc+mv4kQFmG7sIF1xhAJq4Y+WhhGEDaIrBZUkAXQCdVy9JV9xVAQvoRPZAXI0DCzcaSZdsiQK/MlMr4TiNAml9tvbDdEkBDV7m2i9wiQPULzjeCWAxA4UjRhLsxGkDPGScpGxgDQE9lFOyFEBpAj2d6bQjwIEDu6WD5zKchQEXcTTg3XBVA5eud4mrtFECGhXhGOUwgQIgra8Dl4yJAL3kE+s28E0BiqomCXpIiQMBb8I3k2BhA6zaEWpE0IEBUC+7zDSkUQIS3anup0hpANJMpZ3sCE0A4x+oz4F0MQHKkI9Jv+B5AOTlJHUvvG0D0217o+T8ZQBOMuM4yTR9AnZ6e9rcVJUCwCCBzCwwXQNhVp+MMTSNAGOMaI9P3H0BPwnrvm+sdQKLDnggu5SBA83EqL3I7G0CS/qqHZH0hQO6K2eEhsiBAR1cJXeRNDkDQWXFDFVQhQOeY6i0LdiNAdhUeN0anFUAOgeExqzwbQPsZodYrWRVAehvzpFUbI0CVBcWczQAhQL4pw6F5XRpAizazPkk0DUAGmFTPhfEYQOs6sGBOog1AUaw9b29cIkAfjLGJ/QMTQPey7a1VGRRAJSI0d1f2IkB+sGq3mkMeQFkuS2codCBAnJDz7gCnHkDZqecIu0oRQAC8A0TgfSJAcy753HioF0A=",
          "dtype": "f8"
         }
        },
        {
         "mode": "lines",
         "name": "Prediction",
         "type": "scatter",
         "x": {
          "bdata": "AAI=",
          "dtype": "i1"
         },
         "y": {
          "bdata": "pA1S48EZEUB6wW6e8EAkQA==",
          "dtype": "f8"
         }
        }
       ],
       "layout": {
        "template": {
         "data": {
          "bar": [
           {
            "error_x": {
             "color": "#2a3f5f"
            },
            "error_y": {
             "color": "#2a3f5f"
            },
            "marker": {
             "line": {
              "color": "#E5ECF6",
              "width": 0.5
             },
             "pattern": {
              "fillmode": "overlay",
              "size": 10,
              "solidity": 0.2
             }
            },
            "type": "bar"
           }
          ],
          "barpolar": [
           {
            "marker": {
             "line": {
              "color": "#E5ECF6",
              "width": 0.5
             },
             "pattern": {
              "fillmode": "overlay",
              "size": 10,
              "solidity": 0.2
             }
            },
            "type": "barpolar"
           }
          ],
          "carpet": [
           {
            "aaxis": {
             "endlinecolor": "#2a3f5f",
             "gridcolor": "white",
             "linecolor": "white",
             "minorgridcolor": "white",
             "startlinecolor": "#2a3f5f"
            },
            "baxis": {
             "endlinecolor": "#2a3f5f",
             "gridcolor": "white",
             "linecolor": "white",
             "minorgridcolor": "white",
             "startlinecolor": "#2a3f5f"
            },
            "type": "carpet"
           }
          ],
          "choropleth": [
           {
            "colorbar": {
             "outlinewidth": 0,
             "ticks": ""
            },
            "type": "choropleth"
           }
          ],
          "contour": [
           {
            "colorbar": {
             "outlinewidth": 0,
             "ticks": ""
            },
            "colorscale": [
             [
              0,
              "#0d0887"
             ],
             [
              0.1111111111111111,
              "#46039f"
             ],
             [
              0.2222222222222222,
              "#7201a8"
             ],
             [
              0.3333333333333333,
              "#9c179e"
             ],
             [
              0.4444444444444444,
              "#bd3786"
             ],
             [
              0.5555555555555556,
              "#d8576b"
             ],
             [
              0.6666666666666666,
              "#ed7953"
             ],
             [
              0.7777777777777778,
              "#fb9f3a"
             ],
             [
              0.8888888888888888,
              "#fdca26"
             ],
             [
              1,
              "#f0f921"
             ]
            ],
            "type": "contour"
           }
          ],
          "contourcarpet": [
           {
            "colorbar": {
             "outlinewidth": 0,
             "ticks": ""
            },
            "type": "contourcarpet"
           }
          ],
          "heatmap": [
           {
            "colorbar": {
             "outlinewidth": 0,
             "ticks": ""
            },
            "colorscale": [
             [
              0,
              "#0d0887"
             ],
             [
              0.1111111111111111,
              "#46039f"
             ],
             [
              0.2222222222222222,
              "#7201a8"
             ],
             [
              0.3333333333333333,
              "#9c179e"
             ],
             [
              0.4444444444444444,
              "#bd3786"
             ],
             [
              0.5555555555555556,
              "#d8576b"
             ],
             [
              0.6666666666666666,
              "#ed7953"
             ],
             [
              0.7777777777777778,
              "#fb9f3a"
             ],
             [
              0.8888888888888888,
              "#fdca26"
             ],
             [
              1,
              "#f0f921"
             ]
            ],
            "type": "heatmap"
           }
          ],
          "histogram": [
           {
            "marker": {
             "pattern": {
              "fillmode": "overlay",
              "size": 10,
              "solidity": 0.2
             }
            },
            "type": "histogram"
           }
          ],
          "histogram2d": [
           {
            "colorbar": {
             "outlinewidth": 0,
             "ticks": ""
            },
            "colorscale": [
             [
              0,
              "#0d0887"
             ],
             [
              0.1111111111111111,
              "#46039f"
             ],
             [
              0.2222222222222222,
              "#7201a8"
             ],
             [
              0.3333333333333333,
              "#9c179e"
             ],
             [
              0.4444444444444444,
              "#bd3786"
             ],
             [
              0.5555555555555556,
              "#d8576b"
             ],
             [
              0.6666666666666666,
              "#ed7953"
             ],
             [
              0.7777777777777778,
              "#fb9f3a"
             ],
             [
              0.8888888888888888,
              "#fdca26"
             ],
             [
              1,
              "#f0f921"
             ]
            ],
            "type": "histogram2d"
           }
          ],
          "histogram2dcontour": [
           {
            "colorbar": {
             "outlinewidth": 0,
             "ticks": ""
            },
            "colorscale": [
             [
              0,
              "#0d0887"
             ],
             [
              0.1111111111111111,
              "#46039f"
             ],
             [
              0.2222222222222222,
              "#7201a8"
             ],
             [
              0.3333333333333333,
              "#9c179e"
             ],
             [
              0.4444444444444444,
              "#bd3786"
             ],
             [
              0.5555555555555556,
              "#d8576b"
             ],
             [
              0.6666666666666666,
              "#ed7953"
             ],
             [
              0.7777777777777778,
              "#fb9f3a"
             ],
             [
              0.8888888888888888,
              "#fdca26"
             ],
             [
              1,
              "#f0f921"
             ]
            ],
            "type": "histogram2dcontour"
           }
          ],
          "mesh3d": [
           {
            "colorbar": {
             "outlinewidth": 0,
             "ticks": ""
            },
            "type": "mesh3d"
           }
          ],
          "parcoords": [
           {
            "line": {
             "colorbar": {
              "outlinewidth": 0,
              "ticks": ""
             }
            },
            "type": "parcoords"
           }
          ],
          "pie": [
           {
            "automargin": true,
            "type": "pie"
           }
          ],
          "scatter": [
           {
            "fillpattern": {
             "fillmode": "overlay",
             "size": 10,
             "solidity": 0.2
            },
            "type": "scatter"
           }
          ],
          "scatter3d": [
           {
            "line": {
             "colorbar": {
              "outlinewidth": 0,
              "ticks": ""
             }
            },
            "marker": {
             "colorbar": {
              "outlinewidth": 0,
              "ticks": ""
             }
            },
            "type": "scatter3d"
           }
          ],
          "scattercarpet": [
           {
            "marker": {
             "colorbar": {
              "outlinewidth": 0,
              "ticks": ""
             }
            },
            "type": "scattercarpet"
           }
          ],
          "scattergeo": [
           {
            "marker": {
             "colorbar": {
              "outlinewidth": 0,
              "ticks": ""
             }
            },
            "type": "scattergeo"
           }
          ],
          "scattergl": [
           {
            "marker": {
             "colorbar": {
              "outlinewidth": 0,
              "ticks": ""
             }
            },
            "type": "scattergl"
           }
          ],
          "scattermap": [
           {
            "marker": {
             "colorbar": {
              "outlinewidth": 0,
              "ticks": ""
             }
            },
            "type": "scattermap"
           }
          ],
          "scattermapbox": [
           {
            "marker": {
             "colorbar": {
              "outlinewidth": 0,
              "ticks": ""
             }
            },
            "type": "scattermapbox"
           }
          ],
          "scatterpolar": [
           {
            "marker": {
             "colorbar": {
              "outlinewidth": 0,
              "ticks": ""
             }
            },
            "type": "scatterpolar"
           }
          ],
          "scatterpolargl": [
           {
            "marker": {
             "colorbar": {
              "outlinewidth": 0,
              "ticks": ""
             }
            },
            "type": "scatterpolargl"
           }
          ],
          "scatterternary": [
           {
            "marker": {
             "colorbar": {
              "outlinewidth": 0,
              "ticks": ""
             }
            },
            "type": "scatterternary"
           }
          ],
          "surface": [
           {
            "colorbar": {
             "outlinewidth": 0,
             "ticks": ""
            },
            "colorscale": [
             [
              0,
              "#0d0887"
             ],
             [
              0.1111111111111111,
              "#46039f"
             ],
             [
              0.2222222222222222,
              "#7201a8"
             ],
             [
              0.3333333333333333,
              "#9c179e"
             ],
             [
              0.4444444444444444,
              "#bd3786"
             ],
             [
              0.5555555555555556,
              "#d8576b"
             ],
             [
              0.6666666666666666,
              "#ed7953"
             ],
             [
              0.7777777777777778,
              "#fb9f3a"
             ],
             [
              0.8888888888888888,
              "#fdca26"
             ],
             [
              1,
              "#f0f921"
             ]
            ],
            "type": "surface"
           }
          ],
          "table": [
           {
            "cells": {
             "fill": {
              "color": "#EBF0F8"
             },
             "line": {
              "color": "white"
             }
            },
            "header": {
             "fill": {
              "color": "#C8D4E3"
             },
             "line": {
              "color": "white"
             }
            },
            "type": "table"
           }
          ]
         },
         "layout": {
          "annotationdefaults": {
           "arrowcolor": "#2a3f5f",
           "arrowhead": 0,
           "arrowwidth": 1
          },
          "autotypenumbers": "strict",
          "coloraxis": {
           "colorbar": {
            "outlinewidth": 0,
            "ticks": ""
           }
          },
          "colorscale": {
           "diverging": [
            [
             0,
             "#8e0152"
            ],
            [
             0.1,
             "#c51b7d"
            ],
            [
             0.2,
             "#de77ae"
            ],
            [
             0.3,
             "#f1b6da"
            ],
            [
             0.4,
             "#fde0ef"
            ],
            [
             0.5,
             "#f7f7f7"
            ],
            [
             0.6,
             "#e6f5d0"
            ],
            [
             0.7,
             "#b8e186"
            ],
            [
             0.8,
             "#7fbc41"
            ],
            [
             0.9,
             "#4d9221"
            ],
            [
             1,
             "#276419"
            ]
           ],
           "sequential": [
            [
             0,
             "#0d0887"
            ],
            [
             0.1111111111111111,
             "#46039f"
            ],
            [
             0.2222222222222222,
             "#7201a8"
            ],
            [
             0.3333333333333333,
             "#9c179e"
            ],
            [
             0.4444444444444444,
             "#bd3786"
            ],
            [
             0.5555555555555556,
             "#d8576b"
            ],
            [
             0.6666666666666666,
             "#ed7953"
            ],
            [
             0.7777777777777778,
             "#fb9f3a"
            ],
            [
             0.8888888888888888,
             "#fdca26"
            ],
            [
             1,
             "#f0f921"
            ]
           ],
           "sequentialminus": [
            [
             0,
             "#0d0887"
            ],
            [
             0.1111111111111111,
             "#46039f"
            ],
            [
             0.2222222222222222,
             "#7201a8"
            ],
            [
             0.3333333333333333,
             "#9c179e"
            ],
            [
             0.4444444444444444,
             "#bd3786"
            ],
            [
             0.5555555555555556,
             "#d8576b"
            ],
            [
             0.6666666666666666,
             "#ed7953"
            ],
            [
             0.7777777777777778,
             "#fb9f3a"
            ],
            [
             0.8888888888888888,
             "#fdca26"
            ],
            [
             1,
             "#f0f921"
            ]
           ]
          },
          "colorway": [
           "#636efa",
           "#EF553B",
           "#00cc96",
           "#ab63fa",
           "#FFA15A",
           "#19d3f3",
           "#FF6692",
           "#B6E880",
           "#FF97FF",
           "#FECB52"
          ],
          "font": {
           "color": "#2a3f5f"
          },
          "geo": {
           "bgcolor": "white",
           "lakecolor": "white",
           "landcolor": "#E5ECF6",
           "showlakes": true,
           "showland": true,
           "subunitcolor": "white"
          },
          "hoverlabel": {
           "align": "left"
          },
          "hovermode": "closest",
          "mapbox": {
           "style": "light"
          },
          "paper_bgcolor": "white",
          "plot_bgcolor": "#E5ECF6",
          "polar": {
           "angularaxis": {
            "gridcolor": "white",
            "linecolor": "white",
            "ticks": ""
           },
           "bgcolor": "#E5ECF6",
           "radialaxis": {
            "gridcolor": "white",
            "linecolor": "white",
            "ticks": ""
           }
          },
          "scene": {
           "xaxis": {
            "backgroundcolor": "#E5ECF6",
            "gridcolor": "white",
            "gridwidth": 2,
            "linecolor": "white",
            "showbackground": true,
            "ticks": "",
            "zerolinecolor": "white"
           },
           "yaxis": {
            "backgroundcolor": "#E5ECF6",
            "gridcolor": "white",
            "gridwidth": 2,
            "linecolor": "white",
            "showbackground": true,
            "ticks": "",
            "zerolinecolor": "white"
           },
           "zaxis": {
            "backgroundcolor": "#E5ECF6",
            "gridcolor": "white",
            "gridwidth": 2,
            "linecolor": "white",
            "showbackground": true,
            "ticks": "",
            "zerolinecolor": "white"
           }
          },
          "shapedefaults": {
           "line": {
            "color": "#2a3f5f"
           }
          },
          "ternary": {
           "aaxis": {
            "gridcolor": "white",
            "linecolor": "white",
            "ticks": ""
           },
           "baxis": {
            "gridcolor": "white",
            "linecolor": "white",
            "ticks": ""
           },
           "bgcolor": "#E5ECF6",
           "caxis": {
            "gridcolor": "white",
            "linecolor": "white",
            "ticks": ""
           }
          },
          "title": {
           "x": 0.05
          },
          "xaxis": {
           "automargin": true,
           "gridcolor": "white",
           "linecolor": "white",
           "ticks": "",
           "title": {
            "standoff": 15
           },
           "zerolinecolor": "white",
           "zerolinewidth": 2
          },
          "yaxis": {
           "automargin": true,
           "gridcolor": "white",
           "linecolor": "white",
           "ticks": "",
           "title": {
            "standoff": 15
           },
           "zerolinecolor": "white",
           "zerolinewidth": 2
          }
         }
        }
       }
      }
     },
     "metadata": {},
     "output_type": "display_data"
    }
   ],
   "source": [
    "fig = go.Figure()\n",
    "fig.add_trace(go.Scatter(x=x[:,0], y=y[:,0], mode=\"markers\", name=\"Data\"))\n",
    "fig.add_trace(go.Scatter(x=x_new[:,0], y=y_pred[:,0], mode=\"lines\", name=\"Prediction\"))\n",
    "fig.show()"
   ]
  },
  {
   "cell_type": "code",
   "execution_count": 7,
   "id": "f420fcbd",
   "metadata": {},
   "outputs": [
    {
     "name": "stdout",
     "output_type": "stream",
     "text": [
      "[4.27515369] [[2.92584104]]\n",
      "[[ 4.27515369]\n",
      " [10.12683578]]\n"
     ]
    }
   ],
   "source": [
    "# from scikit learn\n",
    "lin_reg = LinearRegression()\n",
    "lin_reg.fit(x,y)\n",
    "print(lin_reg.intercept_, lin_reg.coef_)\n",
    "print(lin_reg.predict(x_new))"
   ]
  },
  {
   "cell_type": "markdown",
   "id": "9c2bd6ec",
   "metadata": {},
   "source": [
    "### Gradient Descent"
   ]
  },
  {
   "cell_type": "code",
   "execution_count": 8,
   "id": "b6b4c285",
   "metadata": {},
   "outputs": [],
   "source": [
    "eta = 0.1\n",
    "n_iterations = 1000\n",
    "m = 100\n",
    "\n",
    "theta = np.random.randn(2,1)\n",
    "\n",
    "for iteration in range(n_iterations):\n",
    "    gradients = 2/m * x_b.T.dot(x_b.dot(theta) - y)\n",
    "    theta = theta - eta * gradients"
   ]
  },
  {
   "cell_type": "markdown",
   "id": "310a45eb",
   "metadata": {},
   "source": [
    "### Stochastic GD"
   ]
  },
  {
   "cell_type": "code",
   "execution_count": 10,
   "id": "3c44714d",
   "metadata": {},
   "outputs": [
    {
     "data": {
      "text/plain": [
       "(100, 2)"
      ]
     },
     "execution_count": 10,
     "metadata": {},
     "output_type": "execute_result"
    }
   ],
   "source": [
    "x_b.shape"
   ]
  },
  {
   "cell_type": "code",
   "execution_count": 12,
   "id": "69cf9fd5",
   "metadata": {},
   "outputs": [],
   "source": [
    "theta_path_sgd = []\n",
    "m = len(x_b)\n",
    "n_epochs = 50\n",
    "t0, t1 = 5, 50"
   ]
  },
  {
   "cell_type": "code",
   "execution_count": 36,
   "id": "0bfa34f4",
   "metadata": {},
   "outputs": [
    {
     "data": {
      "application/vnd.plotly.v1+json": {
       "config": {
        "plotlyServerURL": "https://plot.ly"
       },
       "data": [
        {
         "line": {
          "color": "red",
          "dash": "dash"
         },
         "mode": "lines",
         "type": "scatter",
         "x": {
          "bdata": "AAI=",
          "dtype": "i1"
         },
         "y": {
          "bdata": "0IJ6ec3N8D8UT9Sc67n7vw==",
          "dtype": "f8"
         }
        },
        {
         "line": {
          "color": "blue",
          "dash": "solid"
         },
         "mode": "lines",
         "type": "scatter",
         "x": {
          "bdata": "AAI=",
          "dtype": "i1"
         },
         "y": {
          "bdata": "GU0v9ASwB0A+jLu2FAQWQA==",
          "dtype": "f8"
         }
        },
        {
         "line": {
          "color": "blue",
          "dash": "solid"
         },
         "mode": "lines",
         "type": "scatter",
         "x": {
          "bdata": "AAI=",
          "dtype": "i1"
         },
         "y": {
          "bdata": "PGjNrpRFCkBONtlWPYEXQA==",
          "dtype": "f8"
         }
        },
        {
         "line": {
          "color": "blue",
          "dash": "solid"
         },
         "mode": "lines",
         "type": "scatter",
         "x": {
          "bdata": "AAI=",
          "dtype": "i1"
         },
         "y": {
          "bdata": "7lyXGamTEEDA9UXt0DgiQA==",
          "dtype": "f8"
         }
        },
        {
         "line": {
          "color": "blue",
          "dash": "solid"
         },
         "mode": "lines",
         "type": "scatter",
         "x": {
          "bdata": "AAI=",
          "dtype": "i1"
         },
         "y": {
          "bdata": "EcGJn203EUBgloOHg7cjQA==",
          "dtype": "f8"
         }
        },
        {
         "line": {
          "color": "blue",
          "dash": "solid"
         },
         "mode": "lines",
         "type": "scatter",
         "x": {
          "bdata": "AAI=",
          "dtype": "i1"
         },
         "y": {
          "bdata": "RLPtNJGeEECeR+hnsGIjQA==",
          "dtype": "f8"
         }
        },
        {
         "line": {
          "color": "blue",
          "dash": "solid"
         },
         "mode": "lines",
         "type": "scatter",
         "x": {
          "bdata": "AAI=",
          "dtype": "i1"
         },
         "y": {
          "bdata": "GdjtxbzYEEDj2tqBn+ojQA==",
          "dtype": "f8"
         }
        },
        {
         "line": {
          "color": "blue",
          "dash": "solid"
         },
         "mode": "lines",
         "type": "scatter",
         "x": {
          "bdata": "AAI=",
          "dtype": "i1"
         },
         "y": {
          "bdata": "k1m4rgFTEUCpU56/b8QkQA==",
          "dtype": "f8"
         }
        },
        {
         "line": {
          "color": "blue",
          "dash": "solid"
         },
         "mode": "lines",
         "type": "scatter",
         "x": {
          "bdata": "AAI=",
          "dtype": "i1"
         },
         "y": {
          "bdata": "x3Ad5QcaEUBiroUBP2MkQA==",
          "dtype": "f8"
         }
        },
        {
         "line": {
          "color": "blue",
          "dash": "solid"
         },
         "mode": "lines",
         "type": "scatter",
         "x": {
          "bdata": "AAI=",
          "dtype": "i1"
         },
         "y": {
          "bdata": "e60Ul6laEkB4HiblHyInQA==",
          "dtype": "f8"
         }
        },
        {
         "line": {
          "color": "blue",
          "dash": "solid"
         },
         "mode": "lines",
         "type": "scatter",
         "x": {
          "bdata": "AAI=",
          "dtype": "i1"
         },
         "y": {
          "bdata": "E6cyVAbSEUC0E84UXR8mQA==",
          "dtype": "f8"
         }
        },
        {
         "line": {
          "color": "blue",
          "dash": "solid"
         },
         "mode": "lines",
         "type": "scatter",
         "x": {
          "bdata": "AAI=",
          "dtype": "i1"
         },
         "y": {
          "bdata": "nFUSWI6QEEA4m1xvzR8lQA==",
          "dtype": "f8"
         }
        },
        {
         "line": {
          "color": "blue",
          "dash": "solid"
         },
         "mode": "lines",
         "type": "scatter",
         "x": {
          "bdata": "AAI=",
          "dtype": "i1"
         },
         "y": {
          "bdata": "KDVENEagEEDWzU99kUIlQA==",
          "dtype": "f8"
         }
        },
        {
         "line": {
          "color": "blue",
          "dash": "solid"
         },
         "mode": "lines",
         "type": "scatter",
         "x": {
          "bdata": "AAI=",
          "dtype": "i1"
         },
         "y": {
          "bdata": "cEkhYts8EED60U3tqrMkQA==",
          "dtype": "f8"
         }
        },
        {
         "line": {
          "color": "blue",
          "dash": "solid"
         },
         "mode": "lines",
         "type": "scatter",
         "x": {
          "bdata": "AAI=",
          "dtype": "i1"
         },
         "y": {
          "bdata": "jiFRY19rEEA2dk9KjRolQA==",
          "dtype": "f8"
         }
        },
        {
         "line": {
          "color": "blue",
          "dash": "solid"
         },
         "mode": "lines",
         "type": "scatter",
         "x": {
          "bdata": "AAI=",
          "dtype": "i1"
         },
         "y": {
          "bdata": "3Nq4QrvuDEDceEBq7pIiQA==",
          "dtype": "f8"
         }
        },
        {
         "line": {
          "color": "blue",
          "dash": "solid"
         },
         "mode": "lines",
         "type": "scatter",
         "x": {
          "bdata": "AAI=",
          "dtype": "i1"
         },
         "y": {
          "bdata": "SS54aVSkD0BY5SqDgnAjQA==",
          "dtype": "f8"
         }
        },
        {
         "line": {
          "color": "blue",
          "dash": "solid"
         },
         "mode": "lines",
         "type": "scatter",
         "x": {
          "bdata": "AAI=",
          "dtype": "i1"
         },
         "y": {
          "bdata": "RMi776zDDUBEMn+VmDQiQA==",
          "dtype": "f8"
         }
        },
        {
         "line": {
          "color": "blue",
          "dash": "solid"
         },
         "mode": "lines",
         "type": "scatter",
         "x": {
          "bdata": "AAI=",
          "dtype": "i1"
         },
         "y": {
          "bdata": "F5qHjbBGDkBPziCrUaYiQA==",
          "dtype": "f8"
         }
        },
        {
         "line": {
          "color": "blue",
          "dash": "solid"
         },
         "mode": "lines",
         "type": "scatter",
         "x": {
          "bdata": "AAI=",
          "dtype": "i1"
         },
         "y": {
          "bdata": "NgGS5HpcDkDvzNeYa7AiQA==",
          "dtype": "f8"
         }
        },
        {
         "mode": "markers",
         "name": "Actual Data",
         "type": "scatter",
         "x": {
          "bdata": "/JKCbaG+0T+gtWvCggf5Px019pMbAvk/4K0xxvJloT+WnDSPqz77P+PwhUXho/s/nwvNIbiA9D8u18Oesb75P9UPEakpJvw/0BdEyxVuxj/Qfkn4oxXtPwDknTPCB5c/qVFgew0i9z+AcQSm7UPUP6yXqTpIVvc/I988xyTN9z924SbGPkTyP2gq0FV60fY/chY4MBU84z9HT+g4DSD2PwO++f6eJ/Q/kQoPjNPG8z9zsbl+lh/0PwBiZjtLzuE/wNdLhZj39D/gsYzFh73+P7BY9gCWhuE/4I7yLduPoT+irKk6ERP7P9biP2wJ/+0/fEFMX6kq9T+4GhiCFQzfP5EC7A0fE/s/ZDjmLTIL8T/faGpxGxz7P+A+Bb6SfrM/ZOVjsDIZ4z+05b3ce6v9P2wuPAAoBd0/1qEqmvyh5j+gU0PJPVXlPxy+O2tDO+Y/URzQ2zkV9j+as13Wqob6PwNN+FWDnfo/0tSs+YDf5D/LWgYQdJH7P3QBpmZ4cuk/oNMKFC3A6D8AZporlAFoP3BxvTkSJr4/QgYx54T+9z9D8o/p9B39P+CPxv8pScE/2AAtwskR1D95RQFvzZj1PwvpDszX7/o/hOUNGvc+5T+T3S2ANRz3P6gZC1hIyME/uG0NzrmQ9T9UnV4sIVbbP0Q5DBaHmtM/CC2XoFCk3D8IUEH98uDSPwYQ1UQmme4/pkC3Us5n7T+W77i8anbuPzrXvriUoPI/GiD23IDR+D9gW07nrrveP6B6zUtSyP8/pEiPb0b89j93AU9Z/mvzP7HEbDufsvs/wrsXHD6/6z+gjAnorNz9P6lcoBYiuvs/8jIpet6r4T9vWGrq5Uz2PxN1X2mdY/s/PLYE2PzP5j/4xCmYVRrEP3jRLOi18cc/6gDW06pj/T+BqLJUnun4P8wqAwAECOE/QOHTIK4drD9app/qsRjuP8TbD5p02tg/bG19LkGs/T+wu9qKgxDqP+Z991x3q+E/J1UqcbZw/T9oPUxb1CbvPwWVVwLVufY/R1hX9ApL8z8gk9eIXGS9PzFzgXoRd/k/BIUsPXiQ1j8=",
          "dtype": "f8"
         },
         "y": {
          "bdata": "AN1zftu7FUCCQmrD3qUhQP2hvOIzkyJAXhqOVLWuGUDi6e8EUnohQM18AyxvriNAjtiryNwfIUBsuiZmcBIgQHjekk1FgiBAEi4gPotGFUCNzE8D/QUhQLdLqc+N0AhABCF3pxDvIUCLD4v9sEsbQDdLbzanxyBAjN2BwLIbHUB0Rvgn8lUhQL7D9GnjFyFAfOOxGO4xH0DO0Ogms98gQJ7+IBc4WiNARUcq3d3mHUDg8DjEKZUjQLp8RlkPnhNA8uD+/CYUIEBhq2fR9MEiQNoSHZCl3RVArLAL85VpBUD/nHcSJdohQAiL7tbGWhpABcD//SaCIUAT2jWM4WMaQAK2b2GtMiZAB1c/9QmMIEDPzYPFcY0kQD58Pzkk0hJAQKsw3LreGkDTTwc+mv4kQFmG7sIF1xhAJq4Y+WhhGEDaIrBZUkAXQCdVy9JV9xVAQvoRPZAXI0DCzcaSZdsiQK/MlMr4TiNAml9tvbDdEkBDV7m2i9wiQPULzjeCWAxA4UjRhLsxGkDPGScpGxgDQE9lFOyFEBpAj2d6bQjwIEDu6WD5zKchQEXcTTg3XBVA5eud4mrtFECGhXhGOUwgQIgra8Dl4yJAL3kE+s28E0BiqomCXpIiQMBb8I3k2BhA6zaEWpE0IEBUC+7zDSkUQIS3anup0hpANJMpZ3sCE0A4x+oz4F0MQHKkI9Jv+B5AOTlJHUvvG0D0217o+T8ZQBOMuM4yTR9AnZ6e9rcVJUCwCCBzCwwXQNhVp+MMTSNAGOMaI9P3H0BPwnrvm+sdQKLDnggu5SBA83EqL3I7G0CS/qqHZH0hQO6K2eEhsiBAR1cJXeRNDkDQWXFDFVQhQOeY6i0LdiNAdhUeN0anFUAOgeExqzwbQPsZodYrWRVAehvzpFUbI0CVBcWczQAhQL4pw6F5XRpAizazPkk0DUAGmFTPhfEYQOs6sGBOog1AUaw9b29cIkAfjLGJ/QMTQPey7a1VGRRAJSI0d1f2IkB+sGq3mkMeQFkuS2codCBAnJDz7gCnHkDZqecIu0oRQAC8A0TgfSJAcy753HioF0A=",
          "dtype": "f8"
         }
        }
       ],
       "layout": {
        "template": {
         "data": {
          "bar": [
           {
            "error_x": {
             "color": "#2a3f5f"
            },
            "error_y": {
             "color": "#2a3f5f"
            },
            "marker": {
             "line": {
              "color": "#E5ECF6",
              "width": 0.5
             },
             "pattern": {
              "fillmode": "overlay",
              "size": 10,
              "solidity": 0.2
             }
            },
            "type": "bar"
           }
          ],
          "barpolar": [
           {
            "marker": {
             "line": {
              "color": "#E5ECF6",
              "width": 0.5
             },
             "pattern": {
              "fillmode": "overlay",
              "size": 10,
              "solidity": 0.2
             }
            },
            "type": "barpolar"
           }
          ],
          "carpet": [
           {
            "aaxis": {
             "endlinecolor": "#2a3f5f",
             "gridcolor": "white",
             "linecolor": "white",
             "minorgridcolor": "white",
             "startlinecolor": "#2a3f5f"
            },
            "baxis": {
             "endlinecolor": "#2a3f5f",
             "gridcolor": "white",
             "linecolor": "white",
             "minorgridcolor": "white",
             "startlinecolor": "#2a3f5f"
            },
            "type": "carpet"
           }
          ],
          "choropleth": [
           {
            "colorbar": {
             "outlinewidth": 0,
             "ticks": ""
            },
            "type": "choropleth"
           }
          ],
          "contour": [
           {
            "colorbar": {
             "outlinewidth": 0,
             "ticks": ""
            },
            "colorscale": [
             [
              0,
              "#0d0887"
             ],
             [
              0.1111111111111111,
              "#46039f"
             ],
             [
              0.2222222222222222,
              "#7201a8"
             ],
             [
              0.3333333333333333,
              "#9c179e"
             ],
             [
              0.4444444444444444,
              "#bd3786"
             ],
             [
              0.5555555555555556,
              "#d8576b"
             ],
             [
              0.6666666666666666,
              "#ed7953"
             ],
             [
              0.7777777777777778,
              "#fb9f3a"
             ],
             [
              0.8888888888888888,
              "#fdca26"
             ],
             [
              1,
              "#f0f921"
             ]
            ],
            "type": "contour"
           }
          ],
          "contourcarpet": [
           {
            "colorbar": {
             "outlinewidth": 0,
             "ticks": ""
            },
            "type": "contourcarpet"
           }
          ],
          "heatmap": [
           {
            "colorbar": {
             "outlinewidth": 0,
             "ticks": ""
            },
            "colorscale": [
             [
              0,
              "#0d0887"
             ],
             [
              0.1111111111111111,
              "#46039f"
             ],
             [
              0.2222222222222222,
              "#7201a8"
             ],
             [
              0.3333333333333333,
              "#9c179e"
             ],
             [
              0.4444444444444444,
              "#bd3786"
             ],
             [
              0.5555555555555556,
              "#d8576b"
             ],
             [
              0.6666666666666666,
              "#ed7953"
             ],
             [
              0.7777777777777778,
              "#fb9f3a"
             ],
             [
              0.8888888888888888,
              "#fdca26"
             ],
             [
              1,
              "#f0f921"
             ]
            ],
            "type": "heatmap"
           }
          ],
          "histogram": [
           {
            "marker": {
             "pattern": {
              "fillmode": "overlay",
              "size": 10,
              "solidity": 0.2
             }
            },
            "type": "histogram"
           }
          ],
          "histogram2d": [
           {
            "colorbar": {
             "outlinewidth": 0,
             "ticks": ""
            },
            "colorscale": [
             [
              0,
              "#0d0887"
             ],
             [
              0.1111111111111111,
              "#46039f"
             ],
             [
              0.2222222222222222,
              "#7201a8"
             ],
             [
              0.3333333333333333,
              "#9c179e"
             ],
             [
              0.4444444444444444,
              "#bd3786"
             ],
             [
              0.5555555555555556,
              "#d8576b"
             ],
             [
              0.6666666666666666,
              "#ed7953"
             ],
             [
              0.7777777777777778,
              "#fb9f3a"
             ],
             [
              0.8888888888888888,
              "#fdca26"
             ],
             [
              1,
              "#f0f921"
             ]
            ],
            "type": "histogram2d"
           }
          ],
          "histogram2dcontour": [
           {
            "colorbar": {
             "outlinewidth": 0,
             "ticks": ""
            },
            "colorscale": [
             [
              0,
              "#0d0887"
             ],
             [
              0.1111111111111111,
              "#46039f"
             ],
             [
              0.2222222222222222,
              "#7201a8"
             ],
             [
              0.3333333333333333,
              "#9c179e"
             ],
             [
              0.4444444444444444,
              "#bd3786"
             ],
             [
              0.5555555555555556,
              "#d8576b"
             ],
             [
              0.6666666666666666,
              "#ed7953"
             ],
             [
              0.7777777777777778,
              "#fb9f3a"
             ],
             [
              0.8888888888888888,
              "#fdca26"
             ],
             [
              1,
              "#f0f921"
             ]
            ],
            "type": "histogram2dcontour"
           }
          ],
          "mesh3d": [
           {
            "colorbar": {
             "outlinewidth": 0,
             "ticks": ""
            },
            "type": "mesh3d"
           }
          ],
          "parcoords": [
           {
            "line": {
             "colorbar": {
              "outlinewidth": 0,
              "ticks": ""
             }
            },
            "type": "parcoords"
           }
          ],
          "pie": [
           {
            "automargin": true,
            "type": "pie"
           }
          ],
          "scatter": [
           {
            "fillpattern": {
             "fillmode": "overlay",
             "size": 10,
             "solidity": 0.2
            },
            "type": "scatter"
           }
          ],
          "scatter3d": [
           {
            "line": {
             "colorbar": {
              "outlinewidth": 0,
              "ticks": ""
             }
            },
            "marker": {
             "colorbar": {
              "outlinewidth": 0,
              "ticks": ""
             }
            },
            "type": "scatter3d"
           }
          ],
          "scattercarpet": [
           {
            "marker": {
             "colorbar": {
              "outlinewidth": 0,
              "ticks": ""
             }
            },
            "type": "scattercarpet"
           }
          ],
          "scattergeo": [
           {
            "marker": {
             "colorbar": {
              "outlinewidth": 0,
              "ticks": ""
             }
            },
            "type": "scattergeo"
           }
          ],
          "scattergl": [
           {
            "marker": {
             "colorbar": {
              "outlinewidth": 0,
              "ticks": ""
             }
            },
            "type": "scattergl"
           }
          ],
          "scattermap": [
           {
            "marker": {
             "colorbar": {
              "outlinewidth": 0,
              "ticks": ""
             }
            },
            "type": "scattermap"
           }
          ],
          "scattermapbox": [
           {
            "marker": {
             "colorbar": {
              "outlinewidth": 0,
              "ticks": ""
             }
            },
            "type": "scattermapbox"
           }
          ],
          "scatterpolar": [
           {
            "marker": {
             "colorbar": {
              "outlinewidth": 0,
              "ticks": ""
             }
            },
            "type": "scatterpolar"
           }
          ],
          "scatterpolargl": [
           {
            "marker": {
             "colorbar": {
              "outlinewidth": 0,
              "ticks": ""
             }
            },
            "type": "scatterpolargl"
           }
          ],
          "scatterternary": [
           {
            "marker": {
             "colorbar": {
              "outlinewidth": 0,
              "ticks": ""
             }
            },
            "type": "scatterternary"
           }
          ],
          "surface": [
           {
            "colorbar": {
             "outlinewidth": 0,
             "ticks": ""
            },
            "colorscale": [
             [
              0,
              "#0d0887"
             ],
             [
              0.1111111111111111,
              "#46039f"
             ],
             [
              0.2222222222222222,
              "#7201a8"
             ],
             [
              0.3333333333333333,
              "#9c179e"
             ],
             [
              0.4444444444444444,
              "#bd3786"
             ],
             [
              0.5555555555555556,
              "#d8576b"
             ],
             [
              0.6666666666666666,
              "#ed7953"
             ],
             [
              0.7777777777777778,
              "#fb9f3a"
             ],
             [
              0.8888888888888888,
              "#fdca26"
             ],
             [
              1,
              "#f0f921"
             ]
            ],
            "type": "surface"
           }
          ],
          "table": [
           {
            "cells": {
             "fill": {
              "color": "#EBF0F8"
             },
             "line": {
              "color": "white"
             }
            },
            "header": {
             "fill": {
              "color": "#C8D4E3"
             },
             "line": {
              "color": "white"
             }
            },
            "type": "table"
           }
          ]
         },
         "layout": {
          "annotationdefaults": {
           "arrowcolor": "#2a3f5f",
           "arrowhead": 0,
           "arrowwidth": 1
          },
          "autotypenumbers": "strict",
          "coloraxis": {
           "colorbar": {
            "outlinewidth": 0,
            "ticks": ""
           }
          },
          "colorscale": {
           "diverging": [
            [
             0,
             "#8e0152"
            ],
            [
             0.1,
             "#c51b7d"
            ],
            [
             0.2,
             "#de77ae"
            ],
            [
             0.3,
             "#f1b6da"
            ],
            [
             0.4,
             "#fde0ef"
            ],
            [
             0.5,
             "#f7f7f7"
            ],
            [
             0.6,
             "#e6f5d0"
            ],
            [
             0.7,
             "#b8e186"
            ],
            [
             0.8,
             "#7fbc41"
            ],
            [
             0.9,
             "#4d9221"
            ],
            [
             1,
             "#276419"
            ]
           ],
           "sequential": [
            [
             0,
             "#0d0887"
            ],
            [
             0.1111111111111111,
             "#46039f"
            ],
            [
             0.2222222222222222,
             "#7201a8"
            ],
            [
             0.3333333333333333,
             "#9c179e"
            ],
            [
             0.4444444444444444,
             "#bd3786"
            ],
            [
             0.5555555555555556,
             "#d8576b"
            ],
            [
             0.6666666666666666,
             "#ed7953"
            ],
            [
             0.7777777777777778,
             "#fb9f3a"
            ],
            [
             0.8888888888888888,
             "#fdca26"
            ],
            [
             1,
             "#f0f921"
            ]
           ],
           "sequentialminus": [
            [
             0,
             "#0d0887"
            ],
            [
             0.1111111111111111,
             "#46039f"
            ],
            [
             0.2222222222222222,
             "#7201a8"
            ],
            [
             0.3333333333333333,
             "#9c179e"
            ],
            [
             0.4444444444444444,
             "#bd3786"
            ],
            [
             0.5555555555555556,
             "#d8576b"
            ],
            [
             0.6666666666666666,
             "#ed7953"
            ],
            [
             0.7777777777777778,
             "#fb9f3a"
            ],
            [
             0.8888888888888888,
             "#fdca26"
            ],
            [
             1,
             "#f0f921"
            ]
           ]
          },
          "colorway": [
           "#636efa",
           "#EF553B",
           "#00cc96",
           "#ab63fa",
           "#FFA15A",
           "#19d3f3",
           "#FF6692",
           "#B6E880",
           "#FF97FF",
           "#FECB52"
          ],
          "font": {
           "color": "#2a3f5f"
          },
          "geo": {
           "bgcolor": "white",
           "lakecolor": "white",
           "landcolor": "#E5ECF6",
           "showlakes": true,
           "showland": true,
           "subunitcolor": "white"
          },
          "hoverlabel": {
           "align": "left"
          },
          "hovermode": "closest",
          "mapbox": {
           "style": "light"
          },
          "paper_bgcolor": "white",
          "plot_bgcolor": "#E5ECF6",
          "polar": {
           "angularaxis": {
            "gridcolor": "white",
            "linecolor": "white",
            "ticks": ""
           },
           "bgcolor": "#E5ECF6",
           "radialaxis": {
            "gridcolor": "white",
            "linecolor": "white",
            "ticks": ""
           }
          },
          "scene": {
           "xaxis": {
            "backgroundcolor": "#E5ECF6",
            "gridcolor": "white",
            "gridwidth": 2,
            "linecolor": "white",
            "showbackground": true,
            "ticks": "",
            "zerolinecolor": "white"
           },
           "yaxis": {
            "backgroundcolor": "#E5ECF6",
            "gridcolor": "white",
            "gridwidth": 2,
            "linecolor": "white",
            "showbackground": true,
            "ticks": "",
            "zerolinecolor": "white"
           },
           "zaxis": {
            "backgroundcolor": "#E5ECF6",
            "gridcolor": "white",
            "gridwidth": 2,
            "linecolor": "white",
            "showbackground": true,
            "ticks": "",
            "zerolinecolor": "white"
           }
          },
          "shapedefaults": {
           "line": {
            "color": "#2a3f5f"
           }
          },
          "ternary": {
           "aaxis": {
            "gridcolor": "white",
            "linecolor": "white",
            "ticks": ""
           },
           "baxis": {
            "gridcolor": "white",
            "linecolor": "white",
            "ticks": ""
           },
           "bgcolor": "#E5ECF6",
           "caxis": {
            "gridcolor": "white",
            "linecolor": "white",
            "ticks": ""
           }
          },
          "title": {
           "x": 0.05
          },
          "xaxis": {
           "automargin": true,
           "gridcolor": "white",
           "linecolor": "white",
           "ticks": "",
           "title": {
            "standoff": 15
           },
           "zerolinecolor": "white",
           "zerolinewidth": 2
          },
          "yaxis": {
           "automargin": true,
           "gridcolor": "white",
           "linecolor": "white",
           "ticks": "",
           "title": {
            "standoff": 15
           },
           "zerolinecolor": "white",
           "zerolinewidth": 2
          }
         }
        },
        "title": {
         "text": "First 20 steps of SGD"
        },
        "xaxis": {
         "title": {
          "text": "x"
         }
        },
        "yaxis": {
         "title": {
          "text": "y"
         }
        }
       }
      }
     },
     "metadata": {},
     "output_type": "display_data"
    }
   ],
   "source": [
    "def learning_schedule(t):\n",
    "    return t0 / (t + t1)\n",
    "\n",
    "theta = np.random.randn(2,1)\n",
    "fig = go.Figure()\n",
    "\n",
    "for epoch in range(n_epochs):\n",
    "    for i in range(m):\n",
    "        if epoch == 0 and i < 20:\n",
    "            y_pred = x_new_b.dot(theta)\n",
    "            style_line = dict(color='blue', dash='solid') if i > 0 else dict(color='red', dash='dash')\n",
    "            fig.add_trace(go.Scatter(x=x_new[:,0], y=y_pred[:,0], mode='lines', line=style_line))\n",
    "        random_idx = np.random.randint(m)\n",
    "        xi = x_b[random_idx:random_idx+1]\n",
    "        yi = y[random_idx:random_idx+1]\n",
    "        gradients = 2 * xi.T.dot(xi.dot(theta) - yi)\n",
    "        eta = learning_schedule(epoch * m + i)\n",
    "        theta = theta - eta * gradients\n",
    "        theta_path_sgd.append(theta)\n",
    "\n",
    "fig.add_trace(go.Scatter(x=x[:,0], y=y[:,0], mode='markers', name='Actual Data'))\n",
    "fig.update_layout(xaxis_title='x', yaxis_title='y', title='First 20 steps of SGD')\n",
    "fig.show()\n"
   ]
  },
  {
   "cell_type": "code",
   "execution_count": 31,
   "id": "bd2969f0",
   "metadata": {},
   "outputs": [
    {
     "data": {
      "text/plain": [
       "array([[4.22502323],\n",
       "       [2.91297223]])"
      ]
     },
     "execution_count": 31,
     "metadata": {},
     "output_type": "execute_result"
    }
   ],
   "source": [
    "theta"
   ]
  },
  {
   "cell_type": "code",
   "execution_count": 38,
   "id": "ce8a6f75",
   "metadata": {},
   "outputs": [
    {
     "name": "stdout",
     "output_type": "stream",
     "text": [
      "[4.23987239] [2.88968802]\n"
     ]
    }
   ],
   "source": [
    "# using SGDRegressor\n",
    "sgd_reg = SGDRegressor(max_iter=1000, tol=1e-3, penalty=None, eta0=0.1)\n",
    "sgd_reg.fit(x, y.ravel())\n",
    "print(sgd_reg.intercept_, sgd_reg.coef_)"
   ]
  },
  {
   "cell_type": "markdown",
   "id": "a6f83eef",
   "metadata": {},
   "source": [
    "### Mini-batch GD"
   ]
  },
  {
   "cell_type": "code",
   "execution_count": null,
   "id": "cbc246c6",
   "metadata": {},
   "outputs": [],
   "source": []
  }
 ],
 "metadata": {
  "kernelspec": {
   "display_name": "py3_10",
   "language": "python",
   "name": "python3"
  },
  "language_info": {
   "codemirror_mode": {
    "name": "ipython",
    "version": 3
   },
   "file_extension": ".py",
   "mimetype": "text/x-python",
   "name": "python",
   "nbconvert_exporter": "python",
   "pygments_lexer": "ipython3",
   "version": "3.10.18"
  }
 },
 "nbformat": 4,
 "nbformat_minor": 5
}
